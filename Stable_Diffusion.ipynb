{
  "cells": [
    {
      "cell_type": "code",
      "execution_count": null,
      "metadata": {
        "id": "TBE0A86RH7Xn"
      },
      "outputs": [],
      "source": [
        "!pip install tensorflow keras_cv --upgrade --quiet\n",
        "!apt install --allow-change-held-packages libcudnn8=8.1.0.77-1+cuda11.2"
      ]
    },
    {
      "cell_type": "code",
      "execution_count": null,
      "metadata": {
        "id": "nvTmFDnnIBI0"
      },
      "outputs": [],
      "source": [
        "import time\n",
        "import keras_cv\n",
        "from tensorflow import keras\n",
        "import matplotlib.pyplot as plt"
      ]
    },
    {
      "cell_type": "code",
      "execution_count": null,
      "metadata": {
        "id": "WHP2qcbjIFBJ"
      },
      "outputs": [],
      "source": [
        "model = keras_cv.models.StableDiffusion(img_width=50, img_height=50)"
      ]
    },
    {
      "cell_type": "code",
      "execution_count": null,
      "metadata": {
        "id": "NbDWcjWZIJBj"
      },
      "outputs": [],
      "source": [
        "dg = model.text_to_image(\"photo of a cat chasing a lion\", batch_size=4)\n",
        "\n",
        "\n",
        "def plot_images(dg):\n",
        "    plt.figure(figsize=(20, 20))\n",
        "    for i in range(len(dg)):\n",
        "        ax = plt.subplot(1, len(dg), i + 1)\n",
        "        plt.imshow(dg[i])\n",
        "        plt.axis(\"off\")\n",
        "\n",
        "\n",
        "plot_images(dg)"
      ]
    },
    {
      "cell_type": "code",
      "execution_count": null,
      "metadata": {
        "id": "QxbhHU3vIO7r"
      },
      "outputs": [],
      "source": [
        "images = model.text_to_image(\n",
        "    \"zombie apocalypse, human rebirth, \"\n",
        "    \"end of days, high quality, highly detailed, elegant, sharp focus, \"\n",
        "    \"realism art, mystery\",\n",
        "    batch_size=7,\n",
        ")\n",
        "plot_images(images)"
      ]
    }
  ],
  "metadata": {
    "colab": {
      "provenance": []
    },
    "kernelspec": {
      "display_name": "Python 3",
      "name": "python3"
    },
    "language_info": {
      "name": "python"
    }
  },
  "nbformat": 4,
  "nbformat_minor": 0
}
